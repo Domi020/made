{
 "cells": [
  {
   "cell_type": "markdown",
   "metadata": {},
   "source": [
    "# Development of driving accident numbers among young drivers with the introduction of BF17\n",
    "# Final report"
   ]
  },
  {
   "cell_type": "markdown",
   "metadata": {},
   "source": [
    "## Introduction\n",
    "In the year 2011 BF17 (Begleitetes Fahren ab 17) was introduced in whole Germany. Young people participating in this program can get a driving license already at the age of 17, one year before the regular permission age, and can drive as long as they are accompanied by an adult companion.\\\n",
    "The benefit of this program was said to be a reduction of driving accidents because young drivers get more expertise together with a experienced companion.\n",
    "\n",
    "In this project I try to find out if this hope can be confirmed by looking at the number of driving accidents among young drivers in combination with the numbers of BF17 participants in the last years. The question is if a correlation can be found in those two numbers: Has a increasing number of BF17 participants lead to less driving accidents among young people?"
   ]
  },
  {
   "cell_type": "markdown",
   "metadata": {},
   "source": [
    "## Methods and data pipeline\n",
    "\n",
    "### Data sources\n",
    "For this project two open data sources were chosen.\n",
    "\n",
    "The first question to be solved is if the BF17 program is really used.\n",
    "This question should be solved by checking the \"Fahrerlaubnisse auf Probe\" (driving permits on probation), the number of new class B (normal car) driving permits at the age of 17. These can only be obtained if BF17 is used, as the normal minimum age for class B without BF17 is 18.  \n",
    "These numbers are offered as Excel files from the Kraftfahrbundesamt (KBA) for the years 2017 to 2023.\n",
    "\n",
    "Then the actual number of accidents is researched. The Statistisches Bundesamt offers the number of traffic accidents of all kinds in their Genesis Destatis data warehouse. This statistic contains all numbers of all age groups and all kinds of accidents so the needed numbers (especially accidents among young drivers but also the number of accidents in general) can be selected. Data is available from the years 2008 to 2023.\n",
    "TODO: Licenses"
   ]
  },
  {
   "cell_type": "markdown",
   "metadata": {},
   "source": [
    "### The data pipeline and occurred problems\n",
    "Because of the two different sources the pipeline consists of two smaller pipelines for both sources:\n",
    "The kba_pipeline.py for the number of driving permits, and destatis_pipeline.py for the destatis pipeline. By executing the main pipeline with pipeline.sh both pipelines are executed and the data is collected to one single sqlite database."
   ]
  },
  {
   "cell_type": "markdown",
   "metadata": {},
   "source": [
    "### Extraction, transformation and cleaning steps\n",
    "The following steps are done for the both pipelines:\n",
    "\n",
    "KBA pipeline:\n",
    "The data does not exist in one single Excel file, but for each year a single Excel file exists. So the following steps are done for each file:\n",
    "- At first the data is extracted from the KBA website by just downloading the Excel file\n",
    "- The needed table of the Excel file is extracted with the openpyxl library\n",
    "- The data is transformed to a pandas dataframe for easier handling\n",
    "- The data frame is cleaned and transformed by the following steps:\n",
    "  - All missing numbers (designated in the Excel as - or .) are replaced with proper NaNs\n",
    "  - The columns are renamed and their data type is changed correctly\n",
    "  - The year is added as extra column\n",
    "- Finally the table is appended to the sqlite file table 'Fahrerlaubnisse'"
   ]
  },
  {
   "cell_type": "markdown",
   "metadata": {},
   "source": [
    "Destatis pipeline:\n",
    "The data source Genesis is very hard to handle: It suffers from occasional outages and is in general very slow. Also, a (free) account has to created on the Genesis website. Because of this the pipeline has an offline mode which reuses a once downloaded file to transform. The online mode uses the genesis_puller.py file which has the logic to access Genesis.\n",
    "The following steps are done in this pipeline:\n",
    "- If the destatis_pipeline.py is started with a Genesis account (Two command line params: Genesis user, Genesis password) => Online mode\n",
    "  - Retrieve the data from the Genesis data warehouse by doing:\n",
    "    - Send a batch request to Genesis with the needed table code so that the data is prepared on the Genesis server\n",
    "    - each 15 seconds: check if the data preparation is done and pull the data if ready; else continue waiting\n",
    "    - The data preparation can take up to several minutes\n",
    "  - Write the pulled data into a csv (data/accidents.csv)\n",
    "- If the destatis_pipeline.py is started without a Genesis account => Offline mode\n",
    "  - Check if a pre downloaded data/accidents.csv exists\n",
    "  - If yes: Continue with the transformation with this file\n",
    "  - If no: Throw an error to the user; end of program\n",
    "- Load the data from the downloaded/given csv as pandas dataframe\n",
    "- Then the data is cleaned with the following steps:\n",
    "  - Unnecessary header lines (because of the DWH format) are removed\n",
    "  - The DWH slicing is done by removing unnecessary columns and rows (especially vehicle types which are not interesting for this project)\n",
    "  - The columns are renamed and the data types are changed correctly\n",
    "  - All missing numbers (designated as - or .) are replaced with proper NaNs\n",
    "- Finally the dataframe is loaded into the sqlite database as own table"
   ]
  },
  {
   "cell_type": "markdown",
   "metadata": {},
   "source": [
    "### Tests\n",
    "To guarantee that the pipeline works also after some changes and is doing the transformation correctly, a test suite was created.\n",
    "The tests can be found in test_pipeline.py, it can be executed by running pipeline.sh.\n",
    "The suite currently contains 7 tests which consist of System tests for both pipelines running all steps, but also extra tests for the single transformation and cleaning steps.\n",
    "The online system test of the destatis_pipeline.py also runs the genesis_puller.py which is why the Genesis account data has to be entered in the test_pipeline.py (variables GENESIS_USER and GENESIS_PASSWORD) to run this test, else it is skipped. An offline system test also exists which is executed each time.\n",
    "\n",
    "To test the single transformation and cleaning steps mock data is used which can be found under project/test_data. Although both data sources have licenses which allow the redistribution of data, the actual data of these tables is randomized/replaced by arbitrary numbers.\n",
    "\n",
    "A CI/CD pipeline with GitHub Actions which executes the test suite after each commit to the repository was also set up. This pipeline is only set up with the offline Genesis pipeline, the online test with pulling from the Genesis DWH is skipped. The reason for this are, as already explained:\n",
    "- The long execution time of the pipeline of up to several minutes\n",
    "- And the occasional errors and outages of the Genesis database, which could lead to a failing CI/CD pipeline, although the pipeline is not at fault."
   ]
  },
  {
   "cell_type": "markdown",
   "metadata": {},
   "source": [
    "## Results\n",
    "\n",
    "### Driving permits with BF17"
   ]
  },
  {
   "cell_type": "code",
   "execution_count": null,
   "metadata": {},
   "outputs": [],
   "source": []
  },
  {
   "cell_type": "code",
   "execution_count": null,
   "metadata": {},
   "outputs": [],
   "source": []
  }
 ],
 "metadata": {
  "language_info": {
   "name": "python"
  }
 },
 "nbformat": 4,
 "nbformat_minor": 2
}
