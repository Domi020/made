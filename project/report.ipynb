{
 "cells": [
  {
   "cell_type": "markdown",
   "metadata": {},
   "source": [
    "# Development of driving accident numbers among young drivers with the introduction of BF17\n",
    "# Final report\n",
    "\n",
    "## Introduction\n",
    "\n",
    "## Methods and data pipeline\n",
    "### Data sources\n",
    "\n",
    "### The data pipeline\n",
    "\n",
    "### Transformation and cleaning steps\n",
    "\n",
    "### Tests\n",
    "\n",
    "### Occurred problems"
   ]
  },
  {
   "cell_type": "code",
   "execution_count": null,
   "metadata": {},
   "outputs": [],
   "source": []
  }
 ],
 "metadata": {
  "language_info": {
   "name": "python"
  }
 },
 "nbformat": 4,
 "nbformat_minor": 2
}
